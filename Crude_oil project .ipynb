{
 "cells": [
  {
   "cell_type": "code",
   "execution_count": 1,
   "id": "04640550",
   "metadata": {},
   "outputs": [],
   "source": [
    "import requests\n",
    "import warnings\n",
    "warnings.filterwarnings(\"ignore\")"
   ]
  },
  {
   "cell_type": "code",
   "execution_count": 2,
   "id": "6c5c7a3c",
   "metadata": {},
   "outputs": [],
   "source": [
    "r=requests.get(\"https://www.macrotrends.net/1369/crude-oil-price-history-chart\")"
   ]
  },
  {
   "cell_type": "code",
   "execution_count": 3,
   "id": "f6824e12",
   "metadata": {},
   "outputs": [
    {
     "data": {
      "text/plain": [
       "'\\n\\r\\n<!DOCTYPE html>\\r\\n<!--[if lt IE 7]>      <html class=\"no-js lt-ie9 lt-ie8 lt-ie7\"> <![endif]-->\\r\\n<!--[if IE 7]>         <html class=\"no-js lt-ie9 lt-ie8\"> <![endif]-->\\r\\n<!--[if IE 8]>         <html class=\"no-js lt-ie9\"> <![endif]-->\\r\\n<!--[if gt IE 8]><!--> <html class=\"no-js\"> <!--<![endif]-->\\r\\n    <head>\\r\\n        <meta charset=\"utf-8\">\\r\\n        <meta http-equiv=\"X-UA-Compatible\" content=\"IE=edge,chrome=1\">\\r\\n\\t\\t\\t\\t\\r\\n\\t\\t<link rel=\"shortcut icon\" href=\"/assets/images/icons/FAVICON/macro-trends_favi'"
      ]
     },
     "execution_count": 3,
     "metadata": {},
     "output_type": "execute_result"
    }
   ],
   "source": [
    "r.text[:500]"
   ]
  },
  {
   "cell_type": "code",
   "execution_count": 4,
   "id": "3e7fed37",
   "metadata": {},
   "outputs": [],
   "source": [
    "from bs4 import BeautifulSoup"
   ]
  },
  {
   "cell_type": "code",
   "execution_count": 5,
   "id": "8203dfde",
   "metadata": {},
   "outputs": [],
   "source": [
    "soup=BeautifulSoup(r.text,\"html.parser\")"
   ]
  },
  {
   "cell_type": "code",
   "execution_count": 6,
   "id": "a8e4c05c",
   "metadata": {},
   "outputs": [],
   "source": [
    "result=soup.find_all('td',attrs={\"style\":\"text-align:center\"})"
   ]
  },
  {
   "cell_type": "code",
   "execution_count": 7,
   "id": "1569d0e6",
   "metadata": {},
   "outputs": [],
   "source": [
    "year=[]\n",
    "for years in result:\n",
    "    yrs=years.text\n",
    "    year.append(yrs)"
   ]
  },
  {
   "cell_type": "code",
   "execution_count": 8,
   "id": "63df7e87",
   "metadata": {},
   "outputs": [
    {
     "data": {
      "text/plain": [
       "['2022',\n",
       " '2021',\n",
       " '2020',\n",
       " '2019',\n",
       " '2018',\n",
       " '2017',\n",
       " '2016',\n",
       " '2015',\n",
       " '2014',\n",
       " '2013',\n",
       " '2012',\n",
       " '2011',\n",
       " '2010',\n",
       " '2009',\n",
       " '2008',\n",
       " '2007',\n",
       " '2006',\n",
       " '2005',\n",
       " '2004',\n",
       " '2003',\n",
       " '2002',\n",
       " '2001',\n",
       " '2000',\n",
       " '1999',\n",
       " '1998',\n",
       " '1997',\n",
       " '1996',\n",
       " '1995',\n",
       " '1994',\n",
       " '1993',\n",
       " '1992',\n",
       " '1991',\n",
       " '1990',\n",
       " '1989',\n",
       " '1988',\n",
       " '1987']"
      ]
     },
     "execution_count": 8,
     "metadata": {},
     "output_type": "execute_result"
    }
   ],
   "source": [
    "year"
   ]
  },
  {
   "cell_type": "code",
   "execution_count": 9,
   "id": "06e122c8",
   "metadata": {},
   "outputs": [],
   "source": [
    "close_price = soup.find_all('td',attrs={'style':'text-align:center;'})"
   ]
  },
  {
   "cell_type": "code",
   "execution_count": 10,
   "id": "e43770a8",
   "metadata": {},
   "outputs": [
    {
     "data": {
      "text/plain": [
       "[<td style=\"text-align:center;\">$97.10</td>,\n",
       " <td style=\"text-align:center;\">$76.08</td>,\n",
       " <td style=\"text-align:center;\">$123.70</td>,\n",
       " <td style=\"text-align:center;\">$76.08</td>,\n",
       " <td style=\"text-align:center;\">$87.52</td>,\n",
       " <td style=\"text-align:center;\">$68.17</td>,\n",
       " <td style=\"text-align:center;\">$47.62</td>,\n",
       " <td style=\"text-align:center;\">$84.65</td>,\n",
       " <td style=\"text-align:center;\">$47.62</td>,\n",
       " <td style=\"text-align:center;\">$75.21</td>,\n",
       " <td style=\"text-align:center;\">$39.68</td>,\n",
       " <td style=\"text-align:center;\">$61.17</td>,\n",
       " <td style=\"text-align:center;\">$63.27</td>,\n",
       " <td style=\"text-align:center;\">$11.26</td>,\n",
       " <td style=\"text-align:center;\">$48.52</td>,\n",
       " <td style=\"text-align:center;\">$56.99</td>,\n",
       " <td style=\"text-align:center;\">$46.31</td>,\n",
       " <td style=\"text-align:center;\">$66.24</td>,\n",
       " <td style=\"text-align:center;\">$46.31</td>,\n",
       " <td style=\"text-align:center;\">$61.14</td>,\n",
       " <td style=\"text-align:center;\">$65.23</td>,\n",
       " <td style=\"text-align:center;\">$60.37</td>,\n",
       " <td style=\"text-align:center;\">$77.41</td>,\n",
       " <td style=\"text-align:center;\">$44.48</td>,\n",
       " <td style=\"text-align:center;\">$45.15</td>,\n",
       " <td style=\"text-align:center;\">$50.80</td>,\n",
       " <td style=\"text-align:center;\">$52.36</td>,\n",
       " <td style=\"text-align:center;\">$60.46</td>,\n",
       " <td style=\"text-align:center;\">$42.48</td>,\n",
       " <td style=\"text-align:center;\">$60.46</td>,\n",
       " <td style=\"text-align:center;\">$43.29</td>,\n",
       " <td style=\"text-align:center;\">$36.81</td>,\n",
       " <td style=\"text-align:center;\">$54.01</td>,\n",
       " <td style=\"text-align:center;\">$26.19</td>,\n",
       " <td style=\"text-align:center;\">$53.75</td>,\n",
       " <td style=\"text-align:center;\">$48.66</td>,\n",
       " <td style=\"text-align:center;\">$52.72</td>,\n",
       " <td style=\"text-align:center;\">$61.36</td>,\n",
       " <td style=\"text-align:center;\">$34.55</td>,\n",
       " <td style=\"text-align:center;\">$37.13</td>,\n",
       " <td style=\"text-align:center;\">$93.17</td>,\n",
       " <td style=\"text-align:center;\">$95.14</td>,\n",
       " <td style=\"text-align:center;\">$107.95</td>,\n",
       " <td style=\"text-align:center;\">$53.45</td>,\n",
       " <td style=\"text-align:center;\">$53.45</td>,\n",
       " <td style=\"text-align:center;\">$97.98</td>,\n",
       " <td style=\"text-align:center;\">$93.14</td>,\n",
       " <td style=\"text-align:center;\">$110.62</td>,\n",
       " <td style=\"text-align:center;\">$86.65</td>,\n",
       " <td style=\"text-align:center;\">$98.17</td>,\n",
       " <td style=\"text-align:center;\">$94.05</td>,\n",
       " <td style=\"text-align:center;\">$102.96</td>,\n",
       " <td style=\"text-align:center;\">$109.39</td>,\n",
       " <td style=\"text-align:center;\">$77.72</td>,\n",
       " <td style=\"text-align:center;\">$91.83</td>,\n",
       " <td style=\"text-align:center;\">$94.88</td>,\n",
       " <td style=\"text-align:center;\">$91.59</td>,\n",
       " <td style=\"text-align:center;\">$113.39</td>,\n",
       " <td style=\"text-align:center;\">$75.40</td>,\n",
       " <td style=\"text-align:center;\">$98.83</td>,\n",
       " <td style=\"text-align:center;\">$79.48</td>,\n",
       " <td style=\"text-align:center;\">$81.52</td>,\n",
       " <td style=\"text-align:center;\">$91.48</td>,\n",
       " <td style=\"text-align:center;\">$64.78</td>,\n",
       " <td style=\"text-align:center;\">$91.38</td>,\n",
       " <td style=\"text-align:center;\">$61.95</td>,\n",
       " <td style=\"text-align:center;\">$46.17</td>,\n",
       " <td style=\"text-align:center;\">$81.03</td>,\n",
       " <td style=\"text-align:center;\">$34.03</td>,\n",
       " <td style=\"text-align:center;\">$79.39</td>,\n",
       " <td style=\"text-align:center;\">$99.67</td>,\n",
       " <td style=\"text-align:center;\">$99.64</td>,\n",
       " <td style=\"text-align:center;\">$145.31</td>,\n",
       " <td style=\"text-align:center;\">$30.28</td>,\n",
       " <td style=\"text-align:center;\">$44.60</td>,\n",
       " <td style=\"text-align:center;\">$72.34</td>,\n",
       " <td style=\"text-align:center;\">$60.77</td>,\n",
       " <td style=\"text-align:center;\">$99.16</td>,\n",
       " <td style=\"text-align:center;\">$50.51</td>,\n",
       " <td style=\"text-align:center;\">$95.95</td>,\n",
       " <td style=\"text-align:center;\">$66.05</td>,\n",
       " <td style=\"text-align:center;\">$63.11</td>,\n",
       " <td style=\"text-align:center;\">$77.05</td>,\n",
       " <td style=\"text-align:center;\">$55.90</td>,\n",
       " <td style=\"text-align:center;\">$60.85</td>,\n",
       " <td style=\"text-align:center;\">$56.64</td>,\n",
       " <td style=\"text-align:center;\">$42.16</td>,\n",
       " <td style=\"text-align:center;\">$69.91</td>,\n",
       " <td style=\"text-align:center;\">$42.16</td>,\n",
       " <td style=\"text-align:center;\">$61.06</td>,\n",
       " <td style=\"text-align:center;\">$41.51</td>,\n",
       " <td style=\"text-align:center;\">$33.71</td>,\n",
       " <td style=\"text-align:center;\">$56.37</td>,\n",
       " <td style=\"text-align:center;\">$32.49</td>,\n",
       " <td style=\"text-align:center;\">$43.36</td>,\n",
       " <td style=\"text-align:center;\">$31.08</td>,\n",
       " <td style=\"text-align:center;\">$31.97</td>,\n",
       " <td style=\"text-align:center;\">$37.96</td>,\n",
       " <td style=\"text-align:center;\">$25.25</td>,\n",
       " <td style=\"text-align:center;\">$32.51</td>,\n",
       " <td style=\"text-align:center;\">$26.19</td>,\n",
       " <td style=\"text-align:center;\">$21.13</td>,\n",
       " <td style=\"text-align:center;\">$32.68</td>,\n",
       " <td style=\"text-align:center;\">$18.02</td>,\n",
       " <td style=\"text-align:center;\">$31.21</td>,\n",
       " <td style=\"text-align:center;\">$25.98</td>,\n",
       " <td style=\"text-align:center;\">$27.29</td>,\n",
       " <td style=\"text-align:center;\">$32.21</td>,\n",
       " <td style=\"text-align:center;\">$17.50</td>,\n",
       " <td style=\"text-align:center;\">$19.96</td>,\n",
       " <td style=\"text-align:center;\">$30.38</td>,\n",
       " <td style=\"text-align:center;\">$25.56</td>,\n",
       " <td style=\"text-align:center;\">$37.22</td>,\n",
       " <td style=\"text-align:center;\">$23.91</td>,\n",
       " <td style=\"text-align:center;\">$26.72</td>,\n",
       " <td style=\"text-align:center;\">$19.35</td>,\n",
       " <td style=\"text-align:center;\">$12.42</td>,\n",
       " <td style=\"text-align:center;\">$28.03</td>,\n",
       " <td style=\"text-align:center;\">$11.38</td>,\n",
       " <td style=\"text-align:center;\">$25.76</td>,\n",
       " <td style=\"text-align:center;\">$14.42</td>,\n",
       " <td style=\"text-align:center;\">$17.41</td>,\n",
       " <td style=\"text-align:center;\">$17.93</td>,\n",
       " <td style=\"text-align:center;\">$10.82</td>,\n",
       " <td style=\"text-align:center;\">$12.14</td>,\n",
       " <td style=\"text-align:center;\">$20.61</td>,\n",
       " <td style=\"text-align:center;\">$25.55</td>,\n",
       " <td style=\"text-align:center;\">$26.55</td>,\n",
       " <td style=\"text-align:center;\">$17.60</td>,\n",
       " <td style=\"text-align:center;\">$17.65</td>,\n",
       " <td style=\"text-align:center;\">$22.12</td>,\n",
       " <td style=\"text-align:center;\">$19.83</td>,\n",
       " <td style=\"text-align:center;\">$26.55</td>,\n",
       " <td style=\"text-align:center;\">$17.33</td>,\n",
       " <td style=\"text-align:center;\">$25.90</td>,\n",
       " <td style=\"text-align:center;\">$18.43</td>,\n",
       " <td style=\"text-align:center;\">$17.45</td>,\n",
       " <td style=\"text-align:center;\">$20.53</td>,\n",
       " <td style=\"text-align:center;\">$16.86</td>,\n",
       " <td style=\"text-align:center;\">$19.54</td>,\n",
       " <td style=\"text-align:center;\">$17.20</td>,\n",
       " <td style=\"text-align:center;\">$14.52</td>,\n",
       " <td style=\"text-align:center;\">$20.72</td>,\n",
       " <td style=\"text-align:center;\">$13.89</td>,\n",
       " <td style=\"text-align:center;\">$17.77</td>,\n",
       " <td style=\"text-align:center;\">$18.43</td>,\n",
       " <td style=\"text-align:center;\">$19.03</td>,\n",
       " <td style=\"text-align:center;\">$21.05</td>,\n",
       " <td style=\"text-align:center;\">$13.98</td>,\n",
       " <td style=\"text-align:center;\">$14.19</td>,\n",
       " <td style=\"text-align:center;\">$20.58</td>,\n",
       " <td style=\"text-align:center;\">$19.43</td>,\n",
       " <td style=\"text-align:center;\">$23.03</td>,\n",
       " <td style=\"text-align:center;\">$17.89</td>,\n",
       " <td style=\"text-align:center;\">$19.49</td>,\n",
       " <td style=\"text-align:center;\">$21.54</td>,\n",
       " <td style=\"text-align:center;\">$26.53</td>,\n",
       " <td style=\"text-align:center;\">$32.25</td>,\n",
       " <td style=\"text-align:center;\">$17.43</td>,\n",
       " <td style=\"text-align:center;\">$19.15</td>,\n",
       " <td style=\"text-align:center;\">$24.53</td>,\n",
       " <td style=\"text-align:center;\">$22.88</td>,\n",
       " <td style=\"text-align:center;\">$41.07</td>,\n",
       " <td style=\"text-align:center;\">$15.43</td>,\n",
       " <td style=\"text-align:center;\">$28.48</td>,\n",
       " <td style=\"text-align:center;\">$19.64</td>,\n",
       " <td style=\"text-align:center;\">$17.38</td>,\n",
       " <td style=\"text-align:center;\">$24.62</td>,\n",
       " <td style=\"text-align:center;\">$16.99</td>,\n",
       " <td style=\"text-align:center;\">$21.84</td>,\n",
       " <td style=\"text-align:center;\">$15.97</td>,\n",
       " <td style=\"text-align:center;\">$17.77</td>,\n",
       " <td style=\"text-align:center;\">$18.54</td>,\n",
       " <td style=\"text-align:center;\">$12.58</td>,\n",
       " <td style=\"text-align:center;\">$17.12</td>,\n",
       " <td style=\"text-align:center;\">$19.20</td>,\n",
       " <td style=\"text-align:center;\">$18.13</td>,\n",
       " <td style=\"text-align:center;\">$22.44</td>,\n",
       " <td style=\"text-align:center;\">$15.12</td>,\n",
       " <td style=\"text-align:center;\">$16.74</td>]"
      ]
     },
     "execution_count": 10,
     "metadata": {},
     "output_type": "execute_result"
    }
   ],
   "source": [
    "close_price"
   ]
  },
  {
   "cell_type": "code",
   "execution_count": 11,
   "id": "c76218aa",
   "metadata": {},
   "outputs": [],
   "source": [
    "p=[]\n",
    "for i in close_price:\n",
    "    data=i.text.strip()\n",
    "    p.append(data)"
   ]
  },
  {
   "cell_type": "code",
   "execution_count": 12,
   "id": "b6652b75",
   "metadata": {},
   "outputs": [
    {
     "data": {
      "text/plain": [
       "list"
      ]
     },
     "execution_count": 12,
     "metadata": {},
     "output_type": "execute_result"
    }
   ],
   "source": [
    "type(p)"
   ]
  },
  {
   "cell_type": "code",
   "execution_count": 13,
   "id": "578ad4ba",
   "metadata": {},
   "outputs": [
    {
     "data": {
      "text/plain": [
       "'$87.52'"
      ]
     },
     "execution_count": 13,
     "metadata": {},
     "output_type": "execute_result"
    }
   ],
   "source": [
    "close_price[4].text"
   ]
  },
  {
   "cell_type": "code",
   "execution_count": 14,
   "id": "76080192",
   "metadata": {},
   "outputs": [],
   "source": [
    "prices = []\n",
    "for i in range(len(p)):\n",
    "    childlist=p[:5]\n",
    "    del p[:5]\n",
    "    \n",
    "    if (len(childlist)==5):\n",
    "        prices.append(childlist)"
   ]
  },
  {
   "cell_type": "code",
   "execution_count": 15,
   "id": "7ab7256d",
   "metadata": {},
   "outputs": [
    {
     "data": {
      "text/plain": [
       "[['$97.10', '$76.08', '$123.70', '$76.08', '$87.52'],\n",
       " ['$68.17', '$47.62', '$84.65', '$47.62', '$75.21'],\n",
       " ['$39.68', '$61.17', '$63.27', '$11.26', '$48.52'],\n",
       " ['$56.99', '$46.31', '$66.24', '$46.31', '$61.14'],\n",
       " ['$65.23', '$60.37', '$77.41', '$44.48', '$45.15'],\n",
       " ['$50.80', '$52.36', '$60.46', '$42.48', '$60.46'],\n",
       " ['$43.29', '$36.81', '$54.01', '$26.19', '$53.75'],\n",
       " ['$48.66', '$52.72', '$61.36', '$34.55', '$37.13'],\n",
       " ['$93.17', '$95.14', '$107.95', '$53.45', '$53.45'],\n",
       " ['$97.98', '$93.14', '$110.62', '$86.65', '$98.17'],\n",
       " ['$94.05', '$102.96', '$109.39', '$77.72', '$91.83'],\n",
       " ['$94.88', '$91.59', '$113.39', '$75.40', '$98.83'],\n",
       " ['$79.48', '$81.52', '$91.48', '$64.78', '$91.38'],\n",
       " ['$61.95', '$46.17', '$81.03', '$34.03', '$79.39'],\n",
       " ['$99.67', '$99.64', '$145.31', '$30.28', '$44.60'],\n",
       " ['$72.34', '$60.77', '$99.16', '$50.51', '$95.95'],\n",
       " ['$66.05', '$63.11', '$77.05', '$55.90', '$60.85'],\n",
       " ['$56.64', '$42.16', '$69.91', '$42.16', '$61.06'],\n",
       " ['$41.51', '$33.71', '$56.37', '$32.49', '$43.36'],\n",
       " ['$31.08', '$31.97', '$37.96', '$25.25', '$32.51'],\n",
       " ['$26.19', '$21.13', '$32.68', '$18.02', '$31.21'],\n",
       " ['$25.98', '$27.29', '$32.21', '$17.50', '$19.96'],\n",
       " ['$30.38', '$25.56', '$37.22', '$23.91', '$26.72'],\n",
       " ['$19.35', '$12.42', '$28.03', '$11.38', '$25.76'],\n",
       " ['$14.42', '$17.41', '$17.93', '$10.82', '$12.14'],\n",
       " ['$20.61', '$25.55', '$26.55', '$17.60', '$17.65'],\n",
       " ['$22.12', '$19.83', '$26.55', '$17.33', '$25.90'],\n",
       " ['$18.43', '$17.45', '$20.53', '$16.86', '$19.54'],\n",
       " ['$17.20', '$14.52', '$20.72', '$13.89', '$17.77'],\n",
       " ['$18.43', '$19.03', '$21.05', '$13.98', '$14.19'],\n",
       " ['$20.58', '$19.43', '$23.03', '$17.89', '$19.49'],\n",
       " ['$21.54', '$26.53', '$32.25', '$17.43', '$19.15'],\n",
       " ['$24.53', '$22.88', '$41.07', '$15.43', '$28.48'],\n",
       " ['$19.64', '$17.38', '$24.62', '$16.99', '$21.84'],\n",
       " ['$15.97', '$17.77', '$18.54', '$12.58', '$17.12'],\n",
       " ['$19.20', '$18.13', '$22.44', '$15.12', '$16.74']]"
      ]
     },
     "execution_count": 15,
     "metadata": {},
     "output_type": "execute_result"
    }
   ],
   "source": [
    "prices"
   ]
  },
  {
   "cell_type": "code",
   "execution_count": 16,
   "id": "5a534a5b",
   "metadata": {},
   "outputs": [
    {
     "data": {
      "text/html": [
       "<div>\n",
       "<style scoped>\n",
       "    .dataframe tbody tr th:only-of-type {\n",
       "        vertical-align: middle;\n",
       "    }\n",
       "\n",
       "    .dataframe tbody tr th {\n",
       "        vertical-align: top;\n",
       "    }\n",
       "\n",
       "    .dataframe thead th {\n",
       "        text-align: right;\n",
       "    }\n",
       "</style>\n",
       "<table border=\"1\" class=\"dataframe\">\n",
       "  <thead>\n",
       "    <tr style=\"text-align: right;\">\n",
       "      <th></th>\n",
       "      <th>Average Closing Price</th>\n",
       "      <th>Year Open</th>\n",
       "      <th>Year High</th>\n",
       "      <th>Year Low</th>\n",
       "      <th>Year Close</th>\n",
       "    </tr>\n",
       "  </thead>\n",
       "  <tbody>\n",
       "    <tr>\n",
       "      <th>0</th>\n",
       "      <td>$97.10</td>\n",
       "      <td>$76.08</td>\n",
       "      <td>$123.70</td>\n",
       "      <td>$76.08</td>\n",
       "      <td>$87.52</td>\n",
       "    </tr>\n",
       "    <tr>\n",
       "      <th>1</th>\n",
       "      <td>$68.17</td>\n",
       "      <td>$47.62</td>\n",
       "      <td>$84.65</td>\n",
       "      <td>$47.62</td>\n",
       "      <td>$75.21</td>\n",
       "    </tr>\n",
       "    <tr>\n",
       "      <th>2</th>\n",
       "      <td>$39.68</td>\n",
       "      <td>$61.17</td>\n",
       "      <td>$63.27</td>\n",
       "      <td>$11.26</td>\n",
       "      <td>$48.52</td>\n",
       "    </tr>\n",
       "    <tr>\n",
       "      <th>3</th>\n",
       "      <td>$56.99</td>\n",
       "      <td>$46.31</td>\n",
       "      <td>$66.24</td>\n",
       "      <td>$46.31</td>\n",
       "      <td>$61.14</td>\n",
       "    </tr>\n",
       "    <tr>\n",
       "      <th>4</th>\n",
       "      <td>$65.23</td>\n",
       "      <td>$60.37</td>\n",
       "      <td>$77.41</td>\n",
       "      <td>$44.48</td>\n",
       "      <td>$45.15</td>\n",
       "    </tr>\n",
       "  </tbody>\n",
       "</table>\n",
       "</div>"
      ],
      "text/plain": [
       "  Average Closing Price Year Open Year High Year Low Year Close\n",
       "0                $97.10    $76.08   $123.70   $76.08     $87.52\n",
       "1                $68.17    $47.62    $84.65   $47.62     $75.21\n",
       "2                $39.68    $61.17    $63.27   $11.26     $48.52\n",
       "3                $56.99    $46.31    $66.24   $46.31     $61.14\n",
       "4                $65.23    $60.37    $77.41   $44.48     $45.15"
      ]
     },
     "execution_count": 16,
     "metadata": {},
     "output_type": "execute_result"
    }
   ],
   "source": [
    "import pandas as pd\n",
    "df=pd.DataFrame(prices,columns=[\"Average Closing Price\",\"Year Open\",\"Year High\",\"Year Low\",\"Year Close\"])\n",
    "df.head()"
   ]
  },
  {
   "cell_type": "code",
   "execution_count": 17,
   "id": "bec1cfd2",
   "metadata": {},
   "outputs": [],
   "source": [
    "df.insert(0,\"Year\",year,True)"
   ]
  },
  {
   "cell_type": "code",
   "execution_count": 18,
   "id": "7a7b445a",
   "metadata": {},
   "outputs": [
    {
     "data": {
      "text/html": [
       "<div>\n",
       "<style scoped>\n",
       "    .dataframe tbody tr th:only-of-type {\n",
       "        vertical-align: middle;\n",
       "    }\n",
       "\n",
       "    .dataframe tbody tr th {\n",
       "        vertical-align: top;\n",
       "    }\n",
       "\n",
       "    .dataframe thead th {\n",
       "        text-align: right;\n",
       "    }\n",
       "</style>\n",
       "<table border=\"1\" class=\"dataframe\">\n",
       "  <thead>\n",
       "    <tr style=\"text-align: right;\">\n",
       "      <th></th>\n",
       "      <th>Year</th>\n",
       "      <th>Average Closing Price</th>\n",
       "      <th>Year Open</th>\n",
       "      <th>Year High</th>\n",
       "      <th>Year Low</th>\n",
       "      <th>Year Close</th>\n",
       "    </tr>\n",
       "  </thead>\n",
       "  <tbody>\n",
       "    <tr>\n",
       "      <th>0</th>\n",
       "      <td>2022</td>\n",
       "      <td>$97.10</td>\n",
       "      <td>$76.08</td>\n",
       "      <td>$123.70</td>\n",
       "      <td>$76.08</td>\n",
       "      <td>$87.52</td>\n",
       "    </tr>\n",
       "    <tr>\n",
       "      <th>1</th>\n",
       "      <td>2021</td>\n",
       "      <td>$68.17</td>\n",
       "      <td>$47.62</td>\n",
       "      <td>$84.65</td>\n",
       "      <td>$47.62</td>\n",
       "      <td>$75.21</td>\n",
       "    </tr>\n",
       "    <tr>\n",
       "      <th>2</th>\n",
       "      <td>2020</td>\n",
       "      <td>$39.68</td>\n",
       "      <td>$61.17</td>\n",
       "      <td>$63.27</td>\n",
       "      <td>$11.26</td>\n",
       "      <td>$48.52</td>\n",
       "    </tr>\n",
       "    <tr>\n",
       "      <th>3</th>\n",
       "      <td>2019</td>\n",
       "      <td>$56.99</td>\n",
       "      <td>$46.31</td>\n",
       "      <td>$66.24</td>\n",
       "      <td>$46.31</td>\n",
       "      <td>$61.14</td>\n",
       "    </tr>\n",
       "    <tr>\n",
       "      <th>4</th>\n",
       "      <td>2018</td>\n",
       "      <td>$65.23</td>\n",
       "      <td>$60.37</td>\n",
       "      <td>$77.41</td>\n",
       "      <td>$44.48</td>\n",
       "      <td>$45.15</td>\n",
       "    </tr>\n",
       "  </tbody>\n",
       "</table>\n",
       "</div>"
      ],
      "text/plain": [
       "   Year Average Closing Price Year Open Year High Year Low Year Close\n",
       "0  2022                $97.10    $76.08   $123.70   $76.08     $87.52\n",
       "1  2021                $68.17    $47.62    $84.65   $47.62     $75.21\n",
       "2  2020                $39.68    $61.17    $63.27   $11.26     $48.52\n",
       "3  2019                $56.99    $46.31    $66.24   $46.31     $61.14\n",
       "4  2018                $65.23    $60.37    $77.41   $44.48     $45.15"
      ]
     },
     "execution_count": 18,
     "metadata": {},
     "output_type": "execute_result"
    }
   ],
   "source": [
    "df.head()"
   ]
  },
  {
   "cell_type": "code",
   "execution_count": 19,
   "id": "2b75802d",
   "metadata": {},
   "outputs": [],
   "source": [
    "df.to_csv(\"Crude_oil_prices.csv\",index=False)"
   ]
  },
  {
   "cell_type": "code",
   "execution_count": 20,
   "id": "12de1a0a",
   "metadata": {},
   "outputs": [],
   "source": [
    "df1=pd.read_csv(\"Crude_oil_prices.csv\")"
   ]
  },
  {
   "cell_type": "code",
   "execution_count": 21,
   "id": "d07a88ea",
   "metadata": {},
   "outputs": [
    {
     "data": {
      "text/html": [
       "<div>\n",
       "<style scoped>\n",
       "    .dataframe tbody tr th:only-of-type {\n",
       "        vertical-align: middle;\n",
       "    }\n",
       "\n",
       "    .dataframe tbody tr th {\n",
       "        vertical-align: top;\n",
       "    }\n",
       "\n",
       "    .dataframe thead th {\n",
       "        text-align: right;\n",
       "    }\n",
       "</style>\n",
       "<table border=\"1\" class=\"dataframe\">\n",
       "  <thead>\n",
       "    <tr style=\"text-align: right;\">\n",
       "      <th></th>\n",
       "      <th>Year</th>\n",
       "      <th>Average Closing Price</th>\n",
       "      <th>Year Open</th>\n",
       "      <th>Year High</th>\n",
       "      <th>Year Low</th>\n",
       "      <th>Year Close</th>\n",
       "    </tr>\n",
       "  </thead>\n",
       "  <tbody>\n",
       "    <tr>\n",
       "      <th>0</th>\n",
       "      <td>2022</td>\n",
       "      <td>$97.10</td>\n",
       "      <td>$76.08</td>\n",
       "      <td>$123.70</td>\n",
       "      <td>$76.08</td>\n",
       "      <td>$87.52</td>\n",
       "    </tr>\n",
       "    <tr>\n",
       "      <th>1</th>\n",
       "      <td>2021</td>\n",
       "      <td>$68.17</td>\n",
       "      <td>$47.62</td>\n",
       "      <td>$84.65</td>\n",
       "      <td>$47.62</td>\n",
       "      <td>$75.21</td>\n",
       "    </tr>\n",
       "    <tr>\n",
       "      <th>2</th>\n",
       "      <td>2020</td>\n",
       "      <td>$39.68</td>\n",
       "      <td>$61.17</td>\n",
       "      <td>$63.27</td>\n",
       "      <td>$11.26</td>\n",
       "      <td>$48.52</td>\n",
       "    </tr>\n",
       "    <tr>\n",
       "      <th>3</th>\n",
       "      <td>2019</td>\n",
       "      <td>$56.99</td>\n",
       "      <td>$46.31</td>\n",
       "      <td>$66.24</td>\n",
       "      <td>$46.31</td>\n",
       "      <td>$61.14</td>\n",
       "    </tr>\n",
       "    <tr>\n",
       "      <th>4</th>\n",
       "      <td>2018</td>\n",
       "      <td>$65.23</td>\n",
       "      <td>$60.37</td>\n",
       "      <td>$77.41</td>\n",
       "      <td>$44.48</td>\n",
       "      <td>$45.15</td>\n",
       "    </tr>\n",
       "  </tbody>\n",
       "</table>\n",
       "</div>"
      ],
      "text/plain": [
       "   Year Average Closing Price Year Open Year High Year Low Year Close\n",
       "0  2022                $97.10    $76.08   $123.70   $76.08     $87.52\n",
       "1  2021                $68.17    $47.62    $84.65   $47.62     $75.21\n",
       "2  2020                $39.68    $61.17    $63.27   $11.26     $48.52\n",
       "3  2019                $56.99    $46.31    $66.24   $46.31     $61.14\n",
       "4  2018                $65.23    $60.37    $77.41   $44.48     $45.15"
      ]
     },
     "execution_count": 21,
     "metadata": {},
     "output_type": "execute_result"
    }
   ],
   "source": [
    "df1.head()"
   ]
  },
  {
   "cell_type": "code",
   "execution_count": 22,
   "id": "2b7d6dd7",
   "metadata": {},
   "outputs": [
    {
     "data": {
      "text/plain": [
       "Year                      int64\n",
       "Average Closing Price    object\n",
       "Year Open                object\n",
       "Year High                object\n",
       "Year Low                 object\n",
       "Year Close               object\n",
       "dtype: object"
      ]
     },
     "execution_count": 22,
     "metadata": {},
     "output_type": "execute_result"
    }
   ],
   "source": [
    "df1.dtypes"
   ]
  },
  {
   "cell_type": "code",
   "execution_count": 23,
   "id": "22788eb2",
   "metadata": {},
   "outputs": [
    {
     "data": {
      "text/plain": [
       "'$76.08'"
      ]
     },
     "execution_count": 23,
     "metadata": {},
     "output_type": "execute_result"
    }
   ],
   "source": [
    "df1['Year Open'][0]"
   ]
  },
  {
   "cell_type": "code",
   "execution_count": 24,
   "id": "6e833718",
   "metadata": {},
   "outputs": [],
   "source": [
    "df1['Year Open']=df1['Year Open'].str.replace(\"$\",\"\")\n",
    "df1['Average Closing Price']=df1['Average Closing Price'].str.replace(\"$\",\"\")\n",
    "df1['Year High']=df1['Year High'].str.replace(\"$\",\"\")\n",
    "df1['Year Low']=df1['Year Low'].str.replace(\"$\",\"\")\n",
    "df1['Year Close']=df1['Year Close'].str.replace(\"$\",\"\")"
   ]
  },
  {
   "cell_type": "code",
   "execution_count": 25,
   "id": "69440262",
   "metadata": {},
   "outputs": [
    {
     "data": {
      "text/html": [
       "<div>\n",
       "<style scoped>\n",
       "    .dataframe tbody tr th:only-of-type {\n",
       "        vertical-align: middle;\n",
       "    }\n",
       "\n",
       "    .dataframe tbody tr th {\n",
       "        vertical-align: top;\n",
       "    }\n",
       "\n",
       "    .dataframe thead th {\n",
       "        text-align: right;\n",
       "    }\n",
       "</style>\n",
       "<table border=\"1\" class=\"dataframe\">\n",
       "  <thead>\n",
       "    <tr style=\"text-align: right;\">\n",
       "      <th></th>\n",
       "      <th>Year</th>\n",
       "      <th>Average Closing Price</th>\n",
       "      <th>Year Open</th>\n",
       "      <th>Year High</th>\n",
       "      <th>Year Low</th>\n",
       "      <th>Year Close</th>\n",
       "    </tr>\n",
       "  </thead>\n",
       "  <tbody>\n",
       "    <tr>\n",
       "      <th>0</th>\n",
       "      <td>2022</td>\n",
       "      <td>97.10</td>\n",
       "      <td>76.08</td>\n",
       "      <td>123.70</td>\n",
       "      <td>76.08</td>\n",
       "      <td>87.52</td>\n",
       "    </tr>\n",
       "    <tr>\n",
       "      <th>1</th>\n",
       "      <td>2021</td>\n",
       "      <td>68.17</td>\n",
       "      <td>47.62</td>\n",
       "      <td>84.65</td>\n",
       "      <td>47.62</td>\n",
       "      <td>75.21</td>\n",
       "    </tr>\n",
       "    <tr>\n",
       "      <th>2</th>\n",
       "      <td>2020</td>\n",
       "      <td>39.68</td>\n",
       "      <td>61.17</td>\n",
       "      <td>63.27</td>\n",
       "      <td>11.26</td>\n",
       "      <td>48.52</td>\n",
       "    </tr>\n",
       "    <tr>\n",
       "      <th>3</th>\n",
       "      <td>2019</td>\n",
       "      <td>56.99</td>\n",
       "      <td>46.31</td>\n",
       "      <td>66.24</td>\n",
       "      <td>46.31</td>\n",
       "      <td>61.14</td>\n",
       "    </tr>\n",
       "    <tr>\n",
       "      <th>4</th>\n",
       "      <td>2018</td>\n",
       "      <td>65.23</td>\n",
       "      <td>60.37</td>\n",
       "      <td>77.41</td>\n",
       "      <td>44.48</td>\n",
       "      <td>45.15</td>\n",
       "    </tr>\n",
       "  </tbody>\n",
       "</table>\n",
       "</div>"
      ],
      "text/plain": [
       "   Year Average Closing Price Year Open Year High Year Low Year Close\n",
       "0  2022                 97.10     76.08    123.70    76.08      87.52\n",
       "1  2021                 68.17     47.62     84.65    47.62      75.21\n",
       "2  2020                 39.68     61.17     63.27    11.26      48.52\n",
       "3  2019                 56.99     46.31     66.24    46.31      61.14\n",
       "4  2018                 65.23     60.37     77.41    44.48      45.15"
      ]
     },
     "execution_count": 25,
     "metadata": {},
     "output_type": "execute_result"
    }
   ],
   "source": [
    "df1.head()"
   ]
  },
  {
   "cell_type": "code",
   "execution_count": 26,
   "id": "13c977b4",
   "metadata": {},
   "outputs": [
    {
     "data": {
      "text/plain": [
       "Year                      int64\n",
       "Average Closing Price    object\n",
       "Year Open                object\n",
       "Year High                object\n",
       "Year Low                 object\n",
       "Year Close               object\n",
       "dtype: object"
      ]
     },
     "execution_count": 26,
     "metadata": {},
     "output_type": "execute_result"
    }
   ],
   "source": [
    "df1.dtypes"
   ]
  },
  {
   "cell_type": "code",
   "execution_count": 27,
   "id": "80ee6ab5",
   "metadata": {},
   "outputs": [],
   "source": [
    "#df1['Average Closing Price']=df1['Average Closing Price'].astype(float) \n",
    "col=['Average Closing Price','Year Open','Year High','Year High','Year Low','Year Close']\n",
    "for i in col:\n",
    "    df1[i]=df1[i].astype(float)"
   ]
  },
  {
   "cell_type": "code",
   "execution_count": 28,
   "id": "bde2743d",
   "metadata": {},
   "outputs": [
    {
     "data": {
      "text/plain": [
       "Year                       int64\n",
       "Average Closing Price    float64\n",
       "Year Open                float64\n",
       "Year High                float64\n",
       "Year Low                 float64\n",
       "Year Close               float64\n",
       "dtype: object"
      ]
     },
     "execution_count": 28,
     "metadata": {},
     "output_type": "execute_result"
    }
   ],
   "source": [
    "df1.dtypes"
   ]
  },
  {
   "cell_type": "code",
   "execution_count": 29,
   "id": "2066f96c",
   "metadata": {},
   "outputs": [
    {
     "data": {
      "text/html": [
       "<div>\n",
       "<style scoped>\n",
       "    .dataframe tbody tr th:only-of-type {\n",
       "        vertical-align: middle;\n",
       "    }\n",
       "\n",
       "    .dataframe tbody tr th {\n",
       "        vertical-align: top;\n",
       "    }\n",
       "\n",
       "    .dataframe thead th {\n",
       "        text-align: right;\n",
       "    }\n",
       "</style>\n",
       "<table border=\"1\" class=\"dataframe\">\n",
       "  <thead>\n",
       "    <tr style=\"text-align: right;\">\n",
       "      <th></th>\n",
       "      <th>Year</th>\n",
       "      <th>Average Closing Price</th>\n",
       "      <th>Year Open</th>\n",
       "      <th>Year High</th>\n",
       "      <th>Year Low</th>\n",
       "      <th>Year Close</th>\n",
       "    </tr>\n",
       "  </thead>\n",
       "  <tbody>\n",
       "    <tr>\n",
       "      <th>count</th>\n",
       "      <td>36.000000</td>\n",
       "      <td>36.000000</td>\n",
       "      <td>36.000000</td>\n",
       "      <td>36.000000</td>\n",
       "      <td>36.000000</td>\n",
       "      <td>36.000000</td>\n",
       "    </tr>\n",
       "    <tr>\n",
       "      <th>mean</th>\n",
       "      <td>2004.500000</td>\n",
       "      <td>47.035833</td>\n",
       "      <td>44.378611</td>\n",
       "      <td>58.781667</td>\n",
       "      <td>33.731111</td>\n",
       "      <td>45.942222</td>\n",
       "    </tr>\n",
       "    <tr>\n",
       "      <th>std</th>\n",
       "      <td>10.535654</td>\n",
       "      <td>28.930570</td>\n",
       "      <td>27.965360</td>\n",
       "      <td>35.796366</td>\n",
       "      <td>21.913916</td>\n",
       "      <td>28.123786</td>\n",
       "    </tr>\n",
       "    <tr>\n",
       "      <th>min</th>\n",
       "      <td>1987.000000</td>\n",
       "      <td>14.420000</td>\n",
       "      <td>12.420000</td>\n",
       "      <td>17.930000</td>\n",
       "      <td>10.820000</td>\n",
       "      <td>12.140000</td>\n",
       "    </tr>\n",
       "    <tr>\n",
       "      <th>25%</th>\n",
       "      <td>1995.750000</td>\n",
       "      <td>20.602500</td>\n",
       "      <td>19.730000</td>\n",
       "      <td>26.550000</td>\n",
       "      <td>16.957500</td>\n",
       "      <td>19.855000</td>\n",
       "    </tr>\n",
       "    <tr>\n",
       "      <th>50%</th>\n",
       "      <td>2004.500000</td>\n",
       "      <td>40.595000</td>\n",
       "      <td>35.260000</td>\n",
       "      <td>55.190000</td>\n",
       "      <td>25.720000</td>\n",
       "      <td>40.245000</td>\n",
       "    </tr>\n",
       "    <tr>\n",
       "      <th>75%</th>\n",
       "      <td>2013.250000</td>\n",
       "      <td>66.580000</td>\n",
       "      <td>60.870000</td>\n",
       "      <td>81.935000</td>\n",
       "      <td>46.637500</td>\n",
       "      <td>61.080000</td>\n",
       "    </tr>\n",
       "    <tr>\n",
       "      <th>max</th>\n",
       "      <td>2022.000000</td>\n",
       "      <td>99.670000</td>\n",
       "      <td>102.960000</td>\n",
       "      <td>145.310000</td>\n",
       "      <td>86.650000</td>\n",
       "      <td>98.830000</td>\n",
       "    </tr>\n",
       "  </tbody>\n",
       "</table>\n",
       "</div>"
      ],
      "text/plain": [
       "              Year  Average Closing Price   Year Open   Year High   Year Low  \\\n",
       "count    36.000000              36.000000   36.000000   36.000000  36.000000   \n",
       "mean   2004.500000              47.035833   44.378611   58.781667  33.731111   \n",
       "std      10.535654              28.930570   27.965360   35.796366  21.913916   \n",
       "min    1987.000000              14.420000   12.420000   17.930000  10.820000   \n",
       "25%    1995.750000              20.602500   19.730000   26.550000  16.957500   \n",
       "50%    2004.500000              40.595000   35.260000   55.190000  25.720000   \n",
       "75%    2013.250000              66.580000   60.870000   81.935000  46.637500   \n",
       "max    2022.000000              99.670000  102.960000  145.310000  86.650000   \n",
       "\n",
       "       Year Close  \n",
       "count   36.000000  \n",
       "mean    45.942222  \n",
       "std     28.123786  \n",
       "min     12.140000  \n",
       "25%     19.855000  \n",
       "50%     40.245000  \n",
       "75%     61.080000  \n",
       "max     98.830000  "
      ]
     },
     "execution_count": 29,
     "metadata": {},
     "output_type": "execute_result"
    }
   ],
   "source": [
    "df1.describe()"
   ]
  },
  {
   "cell_type": "code",
   "execution_count": 30,
   "id": "9d2db36d",
   "metadata": {},
   "outputs": [
    {
     "data": {
      "image/png": "[encoded data removed]",
      "text/plain": [
       "<Figure size 576x432 with 2 Axes>"
      ]
     },
     "metadata": {
      "needs_background": "light"
     },
     "output_type": "display_data"
    }
   ],
   "source": [
    "import matplotlib.pyplot as plt\n",
    "import seaborn as sns\n",
    "plt.figure(figsize=(8,6))\n",
    "sns.heatmap(df1.corr(),annot=True)\n",
    "plt.show()"
   ]
  },
  {
   "cell_type": "code",
   "execution_count": 31,
   "id": "0126da03",
   "metadata": {},
   "outputs": [
    {
     "data": {
      "image/png": "[encoded data removed]",
      "text/plain": [
       "<Figure size 720x576 with 1 Axes>"
      ]
     },
     "metadata": {
      "needs_background": "light"
     },
     "output_type": "display_data"
    }
   ],
   "source": [
    "# Time vs Price line plot\n",
    "import matplotlib.pyplot as plt\n",
    "import seaborn as sns\n",
    "plt.figure(figsize = (10,8))\n",
    "sns.lineplot(data=df1, x = 'Year', y = 'Year High')\n",
    "plt.title('Oil Price Chart')\n",
    "plt.show()"
   ]
  },
  {
   "cell_type": "code",
   "execution_count": 32,
   "id": "e10a1ccc",
   "metadata": {},
   "outputs": [
    {
     "data": {
      "image/png": "[encoded data removed]",
      "text/plain": [
       "<Figure size 720x576 with 1 Axes>"
      ]
     },
     "metadata": {
      "needs_background": "light"
     },
     "output_type": "display_data"
    }
   ],
   "source": [
    "# Chart for opening oil price w.r.t years\n",
    "import matplotlib.pyplot as plt\n",
    "import seaborn as sns\n",
    "plt.figure(figsize = (10,8))\n",
    "sns.lineplot(data=df1, x = 'Year', y = 'Year Open')\n",
    "plt.title('Oil Price Chart')\n",
    "plt.show()"
   ]
  },
  {
   "cell_type": "code",
   "execution_count": 33,
   "id": "191c35a9",
   "metadata": {},
   "outputs": [
    {
     "data": {
      "image/png": "[encoded data removed]",
      "text/plain": [
       "<Figure size 720x576 with 1 Axes>"
      ]
     },
     "metadata": {
      "needs_background": "light"
     },
     "output_type": "display_data"
    }
   ],
   "source": [
    "# Lower oil price as per year\n",
    "plt.figure(figsize = (10,8))\n",
    "sns.lineplot(data=df1, x = 'Year', y = 'Year Low')\n",
    "plt.title('Oil Price Chart')\n",
    "plt.show()"
   ]
  },
  {
   "cell_type": "code",
   "execution_count": 34,
   "id": "3aabfb7d",
   "metadata": {},
   "outputs": [
    {
     "data": {
      "image/png": "[encoded data removed]",
      "text/plain": [
       "<Figure size 720x576 with 1 Axes>"
      ]
     },
     "metadata": {
      "needs_background": "light"
     },
     "output_type": "display_data"
    }
   ],
   "source": [
    "# Final closing crude oil price w.r.t year\n",
    "plt.figure(figsize = (10,8))\n",
    "sns.lineplot(data=df1, x = 'Year', y = 'Year Close')\n",
    "plt.title('Oil Price Chart')\n",
    "plt.show()"
   ]
  },
  {
   "cell_type": "code",
   "execution_count": 35,
   "id": "828f9196",
   "metadata": {},
   "outputs": [],
   "source": [
    "from sklearn.model_selection import train_test_split\n",
    "from sklearn.linear_model import LogisticRegression"
   ]
  },
  {
   "cell_type": "code",
   "execution_count": 36,
   "id": "559c8256",
   "metadata": {},
   "outputs": [
    {
     "data": {
      "text/html": [
       "<div>\n",
       "<style scoped>\n",
       "    .dataframe tbody tr th:only-of-type {\n",
       "        vertical-align: middle;\n",
       "    }\n",
       "\n",
       "    .dataframe tbody tr th {\n",
       "        vertical-align: top;\n",
       "    }\n",
       "\n",
       "    .dataframe thead th {\n",
       "        text-align: right;\n",
       "    }\n",
       "</style>\n",
       "<table border=\"1\" class=\"dataframe\">\n",
       "  <thead>\n",
       "    <tr style=\"text-align: right;\">\n",
       "      <th></th>\n",
       "      <th>Year</th>\n",
       "      <th>Average Closing Price</th>\n",
       "      <th>Year Open</th>\n",
       "      <th>Year High</th>\n",
       "      <th>Year Low</th>\n",
       "      <th>Year Close</th>\n",
       "    </tr>\n",
       "  </thead>\n",
       "  <tbody>\n",
       "    <tr>\n",
       "      <th>0</th>\n",
       "      <td>2022</td>\n",
       "      <td>97.10</td>\n",
       "      <td>76.08</td>\n",
       "      <td>123.70</td>\n",
       "      <td>76.08</td>\n",
       "      <td>87.52</td>\n",
       "    </tr>\n",
       "    <tr>\n",
       "      <th>1</th>\n",
       "      <td>2021</td>\n",
       "      <td>68.17</td>\n",
       "      <td>47.62</td>\n",
       "      <td>84.65</td>\n",
       "      <td>47.62</td>\n",
       "      <td>75.21</td>\n",
       "    </tr>\n",
       "    <tr>\n",
       "      <th>2</th>\n",
       "      <td>2020</td>\n",
       "      <td>39.68</td>\n",
       "      <td>61.17</td>\n",
       "      <td>63.27</td>\n",
       "      <td>11.26</td>\n",
       "      <td>48.52</td>\n",
       "    </tr>\n",
       "    <tr>\n",
       "      <th>3</th>\n",
       "      <td>2019</td>\n",
       "      <td>56.99</td>\n",
       "      <td>46.31</td>\n",
       "      <td>66.24</td>\n",
       "      <td>46.31</td>\n",
       "      <td>61.14</td>\n",
       "    </tr>\n",
       "    <tr>\n",
       "      <th>4</th>\n",
       "      <td>2018</td>\n",
       "      <td>65.23</td>\n",
       "      <td>60.37</td>\n",
       "      <td>77.41</td>\n",
       "      <td>44.48</td>\n",
       "      <td>45.15</td>\n",
       "    </tr>\n",
       "  </tbody>\n",
       "</table>\n",
       "</div>"
      ],
      "text/plain": [
       "   Year  Average Closing Price  Year Open  Year High  Year Low  Year Close\n",
       "0  2022                  97.10      76.08     123.70     76.08       87.52\n",
       "1  2021                  68.17      47.62      84.65     47.62       75.21\n",
       "2  2020                  39.68      61.17      63.27     11.26       48.52\n",
       "3  2019                  56.99      46.31      66.24     46.31       61.14\n",
       "4  2018                  65.23      60.37      77.41     44.48       45.15"
      ]
     },
     "execution_count": 36,
     "metadata": {},
     "output_type": "execute_result"
    }
   ],
   "source": [
    "df1.head()"
   ]
  },
  {
   "cell_type": "code",
   "execution_count": 37,
   "id": "2ee57511",
   "metadata": {},
   "outputs": [],
   "source": [
    "x=df1[['Year','Average Closing Price','Year Open','Year High','Year Low']]\n",
    "y=df1['Year Close']"
   ]
  },
  {
   "cell_type": "code",
   "execution_count": 38,
   "id": "1060f116",
   "metadata": {},
   "outputs": [],
   "source": [
    "# Splitting data for training and testing\n",
    "from sklearn.model_selection import train_test_split\n",
    "x_train,x_test,y_train,y_test=train_test_split(x,y,test_size=0.20,random_state=0)"
   ]
  },
  {
   "cell_type": "code",
   "execution_count": 39,
   "id": "b8bb06d2",
   "metadata": {},
   "outputs": [
    {
     "data": {
      "text/html": [
       "<style>#sk-container-id-1 {color: black;background-color: white;}#sk-container-id-1 pre{padding: 0;}#sk-container-id-1 div.sk-toggleable {background-color: white;}#sk-container-id-1 label.sk-toggleable__label {cursor: pointer;display: block;width: 100%;margin-bottom: 0;padding: 0.3em;box-sizing: border-box;text-align: center;}#sk-container-id-1 label.sk-toggleable__label-arrow:before {content: \"▸\";float: left;margin-right: 0.25em;color: #696969;}#sk-container-id-1 label.sk-toggleable__label-arrow:hover:before {color: black;}#sk-container-id-1 div.sk-estimator:hover label.sk-toggleable__label-arrow:before {color: black;}#sk-container-id-1 div.sk-toggleable__content {max-height: 0;max-width: 0;overflow: hidden;text-align: left;background-color: #f0f8ff;}#sk-container-id-1 div.sk-toggleable__content pre {margin: 0.2em;color: black;border-radius: 0.25em;background-color: #f0f8ff;}#sk-container-id-1 input.sk-toggleable__control:checked~div.sk-toggleable__content {max-height: 200px;max-width: 100%;overflow: auto;}#sk-container-id-1 input.sk-toggleable__control:checked~label.sk-toggleable__label-arrow:before {content: \"▾\";}#sk-container-id-1 div.sk-estimator input.sk-toggleable__control:checked~label.sk-toggleable__label {background-color: #d4ebff;}#sk-container-id-1 div.sk-label input.sk-toggleable__control:checked~label.sk-toggleable__label {background-color: #d4ebff;}#sk-container-id-1 input.sk-hidden--visually {border: 0;clip: rect(1px 1px 1px 1px);clip: rect(1px, 1px, 1px, 1px);height: 1px;margin: -1px;overflow: hidden;padding: 0;position: absolute;width: 1px;}#sk-container-id-1 div.sk-estimator {font-family: monospace;background-color: #f0f8ff;border: 1px dotted black;border-radius: 0.25em;box-sizing: border-box;margin-bottom: 0.5em;}#sk-container-id-1 div.sk-estimator:hover {background-color: #d4ebff;}#sk-container-id-1 div.sk-parallel-item::after {content: \"\";width: 100%;border-bottom: 1px solid gray;flex-grow: 1;}#sk-container-id-1 div.sk-label:hover label.sk-toggleable__label {background-color: #d4ebff;}#sk-container-id-1 div.sk-serial::before {content: \"\";position: absolute;border-left: 1px solid gray;box-sizing: border-box;top: 0;bottom: 0;left: 50%;z-index: 0;}#sk-container-id-1 div.sk-serial {display: flex;flex-direction: column;align-items: center;background-color: white;padding-right: 0.2em;padding-left: 0.2em;position: relative;}#sk-container-id-1 div.sk-item {position: relative;z-index: 1;}#sk-container-id-1 div.sk-parallel {display: flex;align-items: stretch;justify-content: center;background-color: white;position: relative;}#sk-container-id-1 div.sk-item::before, #sk-container-id-1 div.sk-parallel-item::before {content: \"\";position: absolute;border-left: 1px solid gray;box-sizing: border-box;top: 0;bottom: 0;left: 50%;z-index: -1;}#sk-container-id-1 div.sk-parallel-item {display: flex;flex-direction: column;z-index: 1;position: relative;background-color: white;}#sk-container-id-1 div.sk-parallel-item:first-child::after {align-self: flex-end;width: 50%;}#sk-container-id-1 div.sk-parallel-item:last-child::after {align-self: flex-start;width: 50%;}#sk-container-id-1 div.sk-parallel-item:only-child::after {width: 0;}#sk-container-id-1 div.sk-dashed-wrapped {border: 1px dashed gray;margin: 0 0.4em 0.5em 0.4em;box-sizing: border-box;padding-bottom: 0.4em;background-color: white;}#sk-container-id-1 div.sk-label label {font-family: monospace;font-weight: bold;display: inline-block;line-height: 1.2em;}#sk-container-id-1 div.sk-label-container {text-align: center;}#sk-container-id-1 div.sk-container {/* jupyter's `normalize.less` sets `[hidden] { display: none; }` but bootstrap.min.css set `[hidden] { display: none !important; }` so we also need the `!important` here to be able to override the default hidden behavior on the sphinx rendered scikit-learn.org. See: https://github.com/scikit-learn/scikit-learn/issues/21755 */display: inline-block !important;position: relative;}#sk-container-id-1 div.sk-text-repr-fallback {display: none;}</style><div id=\"sk-container-id-1\" class=\"sk-top-container\"><div class=\"sk-text-repr-fallback\"><pre>LinearRegression()</pre><b>In a Jupyter environment, please rerun this cell to show the HTML representation or trust the notebook. <br />On GitHub, the HTML representation is unable to render, please try loading this page with nbviewer.org.</b></div><div class=\"sk-container\" hidden><div class=\"sk-item\"><div class=\"sk-estimator sk-toggleable\"><input class=\"sk-toggleable__control sk-hidden--visually\" id=\"sk-estimator-id-1\" type=\"checkbox\" checked><label for=\"sk-estimator-id-1\" class=\"sk-toggleable__label sk-toggleable__label-arrow\">LinearRegression</label><div class=\"sk-toggleable__content\"><pre>LinearRegression()</pre></div></div></div></div></div>"
      ],
      "text/plain": [
       "LinearRegression()"
      ]
     },
     "execution_count": 39,
     "metadata": {},
     "output_type": "execute_result"
    }
   ],
   "source": [
    "from sklearn.linear_model import LinearRegression\n",
    "lr = LinearRegression(fit_intercept=True)\n",
    "lr.fit(x_train, y_train)"
   ]
  },
  {
   "cell_type": "code",
   "execution_count": 40,
   "id": "66eacc08",
   "metadata": {},
   "outputs": [
    {
     "data": {
      "text/html": [
       "<div>\n",
       "<style scoped>\n",
       "    .dataframe tbody tr th:only-of-type {\n",
       "        vertical-align: middle;\n",
       "    }\n",
       "\n",
       "    .dataframe tbody tr th {\n",
       "        vertical-align: top;\n",
       "    }\n",
       "\n",
       "    .dataframe thead th {\n",
       "        text-align: right;\n",
       "    }\n",
       "</style>\n",
       "<table border=\"1\" class=\"dataframe\">\n",
       "  <thead>\n",
       "    <tr style=\"text-align: right;\">\n",
       "      <th></th>\n",
       "      <th>coeff</th>\n",
       "    </tr>\n",
       "  </thead>\n",
       "  <tbody>\n",
       "    <tr>\n",
       "      <th>Year</th>\n",
       "      <td>0.120252</td>\n",
       "    </tr>\n",
       "    <tr>\n",
       "      <th>Average Closing Price</th>\n",
       "      <td>0.505608</td>\n",
       "    </tr>\n",
       "    <tr>\n",
       "      <th>Year Open</th>\n",
       "      <td>-0.704665</td>\n",
       "    </tr>\n",
       "    <tr>\n",
       "      <th>Year High</th>\n",
       "      <td>0.210235</td>\n",
       "    </tr>\n",
       "    <tr>\n",
       "      <th>Year Low</th>\n",
       "      <td>1.001076</td>\n",
       "    </tr>\n",
       "  </tbody>\n",
       "</table>\n",
       "</div>"
      ],
      "text/plain": [
       "                          coeff\n",
       "Year                   0.120252\n",
       "Average Closing Price  0.505608\n",
       "Year Open             -0.704665\n",
       "Year High              0.210235\n",
       "Year Low               1.001076"
      ]
     },
     "execution_count": 40,
     "metadata": {},
     "output_type": "execute_result"
    }
   ],
   "source": [
    "pd.DataFrame(lr.coef_, x.columns,columns=['coeff'])"
   ]
  },
  {
   "cell_type": "code",
   "execution_count": 41,
   "id": "870bcc9d",
   "metadata": {},
   "outputs": [],
   "source": [
    "y_pred = lr.predict(x_test)"
   ]
  },
  {
   "cell_type": "code",
   "execution_count": 42,
   "id": "883050a4",
   "metadata": {},
   "outputs": [
    {
     "name": "stdout",
     "output_type": "stream",
     "text": [
      "31    19.15\n",
      "20    31.21\n",
      "16    60.85\n",
      "30    19.49\n",
      "22    26.72\n",
      "15    95.95\n",
      "10    91.83\n",
      "2     48.52\n",
      "Name: Year Close, dtype: float64\n",
      "[20.5322054  28.69228271 66.99383558 23.69233062 34.29941103 71.19576644\n",
      " 82.43391606  9.12646462]\n"
     ]
    }
   ],
   "source": [
    "print(y_test)\n",
    "print(y_pred)"
   ]
  },
  {
   "cell_type": "code",
   "execution_count": 43,
   "id": "b1b0ceba",
   "metadata": {},
   "outputs": [],
   "source": [
    "# To check prediction for 2023 year\n",
    "a=[[2023,95.77,83.46,119.24,65.76]]\n",
    "a_pred=lr.predict(a)"
   ]
  },
  {
   "cell_type": "code",
   "execution_count": 44,
   "id": "bb38c180",
   "metadata": {},
   "outputs": [
    {
     "data": {
      "text/plain": [
       "array([88.46525163])"
      ]
     },
     "execution_count": 44,
     "metadata": {},
     "output_type": "execute_result"
    }
   ],
   "source": [
    "a_pred"
   ]
  },
  {
   "cell_type": "code",
   "execution_count": 45,
   "id": "84a08b89",
   "metadata": {},
   "outputs": [
    {
     "data": {
      "image/png": "[encoded data removed]",
      "text/plain": [
       "<Figure size 432x288 with 1 Axes>"
      ]
     },
     "metadata": {
      "needs_background": "light"
     },
     "output_type": "display_data"
    }
   ],
   "source": [
    "sns.distplot((y_test-y_pred));"
   ]
  },
  {
   "cell_type": "code",
   "execution_count": 46,
   "id": "60334e8f",
   "metadata": {},
   "outputs": [
    {
     "data": {
      "text/html": [
       "<style>#sk-container-id-2 {color: black;background-color: white;}#sk-container-id-2 pre{padding: 0;}#sk-container-id-2 div.sk-toggleable {background-color: white;}#sk-container-id-2 label.sk-toggleable__label {cursor: pointer;display: block;width: 100%;margin-bottom: 0;padding: 0.3em;box-sizing: border-box;text-align: center;}#sk-container-id-2 label.sk-toggleable__label-arrow:before {content: \"▸\";float: left;margin-right: 0.25em;color: #696969;}#sk-container-id-2 label.sk-toggleable__label-arrow:hover:before {color: black;}#sk-container-id-2 div.sk-estimator:hover label.sk-toggleable__label-arrow:before {color: black;}#sk-container-id-2 div.sk-toggleable__content {max-height: 0;max-width: 0;overflow: hidden;text-align: left;background-color: #f0f8ff;}#sk-container-id-2 div.sk-toggleable__content pre {margin: 0.2em;color: black;border-radius: 0.25em;background-color: #f0f8ff;}#sk-container-id-2 input.sk-toggleable__control:checked~div.sk-toggleable__content {max-height: 200px;max-width: 100%;overflow: auto;}#sk-container-id-2 input.sk-toggleable__control:checked~label.sk-toggleable__label-arrow:before {content: \"▾\";}#sk-container-id-2 div.sk-estimator input.sk-toggleable__control:checked~label.sk-toggleable__label {background-color: #d4ebff;}#sk-container-id-2 div.sk-label input.sk-toggleable__control:checked~label.sk-toggleable__label {background-color: #d4ebff;}#sk-container-id-2 input.sk-hidden--visually {border: 0;clip: rect(1px 1px 1px 1px);clip: rect(1px, 1px, 1px, 1px);height: 1px;margin: -1px;overflow: hidden;padding: 0;position: absolute;width: 1px;}#sk-container-id-2 div.sk-estimator {font-family: monospace;background-color: #f0f8ff;border: 1px dotted black;border-radius: 0.25em;box-sizing: border-box;margin-bottom: 0.5em;}#sk-container-id-2 div.sk-estimator:hover {background-color: #d4ebff;}#sk-container-id-2 div.sk-parallel-item::after {content: \"\";width: 100%;border-bottom: 1px solid gray;flex-grow: 1;}#sk-container-id-2 div.sk-label:hover label.sk-toggleable__label {background-color: #d4ebff;}#sk-container-id-2 div.sk-serial::before {content: \"\";position: absolute;border-left: 1px solid gray;box-sizing: border-box;top: 0;bottom: 0;left: 50%;z-index: 0;}#sk-container-id-2 div.sk-serial {display: flex;flex-direction: column;align-items: center;background-color: white;padding-right: 0.2em;padding-left: 0.2em;position: relative;}#sk-container-id-2 div.sk-item {position: relative;z-index: 1;}#sk-container-id-2 div.sk-parallel {display: flex;align-items: stretch;justify-content: center;background-color: white;position: relative;}#sk-container-id-2 div.sk-item::before, #sk-container-id-2 div.sk-parallel-item::before {content: \"\";position: absolute;border-left: 1px solid gray;box-sizing: border-box;top: 0;bottom: 0;left: 50%;z-index: -1;}#sk-container-id-2 div.sk-parallel-item {display: flex;flex-direction: column;z-index: 1;position: relative;background-color: white;}#sk-container-id-2 div.sk-parallel-item:first-child::after {align-self: flex-end;width: 50%;}#sk-container-id-2 div.sk-parallel-item:last-child::after {align-self: flex-start;width: 50%;}#sk-container-id-2 div.sk-parallel-item:only-child::after {width: 0;}#sk-container-id-2 div.sk-dashed-wrapped {border: 1px dashed gray;margin: 0 0.4em 0.5em 0.4em;box-sizing: border-box;padding-bottom: 0.4em;background-color: white;}#sk-container-id-2 div.sk-label label {font-family: monospace;font-weight: bold;display: inline-block;line-height: 1.2em;}#sk-container-id-2 div.sk-label-container {text-align: center;}#sk-container-id-2 div.sk-container {/* jupyter's `normalize.less` sets `[hidden] { display: none; }` but bootstrap.min.css set `[hidden] { display: none !important; }` so we also need the `!important` here to be able to override the default hidden behavior on the sphinx rendered scikit-learn.org. See: https://github.com/scikit-learn/scikit-learn/issues/21755 */display: inline-block !important;position: relative;}#sk-container-id-2 div.sk-text-repr-fallback {display: none;}</style><div id=\"sk-container-id-2\" class=\"sk-top-container\"><div class=\"sk-text-repr-fallback\"><pre>DecisionTreeRegressor(max_depth=4)</pre><b>In a Jupyter environment, please rerun this cell to show the HTML representation or trust the notebook. <br />On GitHub, the HTML representation is unable to render, please try loading this page with nbviewer.org.</b></div><div class=\"sk-container\" hidden><div class=\"sk-item\"><div class=\"sk-estimator sk-toggleable\"><input class=\"sk-toggleable__control sk-hidden--visually\" id=\"sk-estimator-id-2\" type=\"checkbox\" checked><label for=\"sk-estimator-id-2\" class=\"sk-toggleable__label sk-toggleable__label-arrow\">DecisionTreeRegressor</label><div class=\"sk-toggleable__content\"><pre>DecisionTreeRegressor(max_depth=4)</pre></div></div></div></div></div>"
      ],
      "text/plain": [
       "DecisionTreeRegressor(max_depth=4)"
      ]
     },
     "execution_count": 46,
     "metadata": {},
     "output_type": "execute_result"
    }
   ],
   "source": [
    "from sklearn.tree import DecisionTreeRegressor\n",
    "pr = DecisionTreeRegressor(max_depth = 4)\n",
    "pr # it shows the default parameters"
   ]
  },
  {
   "cell_type": "code",
   "execution_count": 47,
   "id": "e8aad115",
   "metadata": {},
   "outputs": [
    {
     "data": {
      "text/html": [
       "<style>#sk-container-id-3 {color: black;background-color: white;}#sk-container-id-3 pre{padding: 0;}#sk-container-id-3 div.sk-toggleable {background-color: white;}#sk-container-id-3 label.sk-toggleable__label {cursor: pointer;display: block;width: 100%;margin-bottom: 0;padding: 0.3em;box-sizing: border-box;text-align: center;}#sk-container-id-3 label.sk-toggleable__label-arrow:before {content: \"▸\";float: left;margin-right: 0.25em;color: #696969;}#sk-container-id-3 label.sk-toggleable__label-arrow:hover:before {color: black;}#sk-container-id-3 div.sk-estimator:hover label.sk-toggleable__label-arrow:before {color: black;}#sk-container-id-3 div.sk-toggleable__content {max-height: 0;max-width: 0;overflow: hidden;text-align: left;background-color: #f0f8ff;}#sk-container-id-3 div.sk-toggleable__content pre {margin: 0.2em;color: black;border-radius: 0.25em;background-color: #f0f8ff;}#sk-container-id-3 input.sk-toggleable__control:checked~div.sk-toggleable__content {max-height: 200px;max-width: 100%;overflow: auto;}#sk-container-id-3 input.sk-toggleable__control:checked~label.sk-toggleable__label-arrow:before {content: \"▾\";}#sk-container-id-3 div.sk-estimator input.sk-toggleable__control:checked~label.sk-toggleable__label {background-color: #d4ebff;}#sk-container-id-3 div.sk-label input.sk-toggleable__control:checked~label.sk-toggleable__label {background-color: #d4ebff;}#sk-container-id-3 input.sk-hidden--visually {border: 0;clip: rect(1px 1px 1px 1px);clip: rect(1px, 1px, 1px, 1px);height: 1px;margin: -1px;overflow: hidden;padding: 0;position: absolute;width: 1px;}#sk-container-id-3 div.sk-estimator {font-family: monospace;background-color: #f0f8ff;border: 1px dotted black;border-radius: 0.25em;box-sizing: border-box;margin-bottom: 0.5em;}#sk-container-id-3 div.sk-estimator:hover {background-color: #d4ebff;}#sk-container-id-3 div.sk-parallel-item::after {content: \"\";width: 100%;border-bottom: 1px solid gray;flex-grow: 1;}#sk-container-id-3 div.sk-label:hover label.sk-toggleable__label {background-color: #d4ebff;}#sk-container-id-3 div.sk-serial::before {content: \"\";position: absolute;border-left: 1px solid gray;box-sizing: border-box;top: 0;bottom: 0;left: 50%;z-index: 0;}#sk-container-id-3 div.sk-serial {display: flex;flex-direction: column;align-items: center;background-color: white;padding-right: 0.2em;padding-left: 0.2em;position: relative;}#sk-container-id-3 div.sk-item {position: relative;z-index: 1;}#sk-container-id-3 div.sk-parallel {display: flex;align-items: stretch;justify-content: center;background-color: white;position: relative;}#sk-container-id-3 div.sk-item::before, #sk-container-id-3 div.sk-parallel-item::before {content: \"\";position: absolute;border-left: 1px solid gray;box-sizing: border-box;top: 0;bottom: 0;left: 50%;z-index: -1;}#sk-container-id-3 div.sk-parallel-item {display: flex;flex-direction: column;z-index: 1;position: relative;background-color: white;}#sk-container-id-3 div.sk-parallel-item:first-child::after {align-self: flex-end;width: 50%;}#sk-container-id-3 div.sk-parallel-item:last-child::after {align-self: flex-start;width: 50%;}#sk-container-id-3 div.sk-parallel-item:only-child::after {width: 0;}#sk-container-id-3 div.sk-dashed-wrapped {border: 1px dashed gray;margin: 0 0.4em 0.5em 0.4em;box-sizing: border-box;padding-bottom: 0.4em;background-color: white;}#sk-container-id-3 div.sk-label label {font-family: monospace;font-weight: bold;display: inline-block;line-height: 1.2em;}#sk-container-id-3 div.sk-label-container {text-align: center;}#sk-container-id-3 div.sk-container {/* jupyter's `normalize.less` sets `[hidden] { display: none; }` but bootstrap.min.css set `[hidden] { display: none !important; }` so we also need the `!important` here to be able to override the default hidden behavior on the sphinx rendered scikit-learn.org. See: https://github.com/scikit-learn/scikit-learn/issues/21755 */display: inline-block !important;position: relative;}#sk-container-id-3 div.sk-text-repr-fallback {display: none;}</style><div id=\"sk-container-id-3\" class=\"sk-top-container\"><div class=\"sk-text-repr-fallback\"><pre>DecisionTreeRegressor(max_depth=4)</pre><b>In a Jupyter environment, please rerun this cell to show the HTML representation or trust the notebook. <br />On GitHub, the HTML representation is unable to render, please try loading this page with nbviewer.org.</b></div><div class=\"sk-container\" hidden><div class=\"sk-item\"><div class=\"sk-estimator sk-toggleable\"><input class=\"sk-toggleable__control sk-hidden--visually\" id=\"sk-estimator-id-3\" type=\"checkbox\" checked><label for=\"sk-estimator-id-3\" class=\"sk-toggleable__label sk-toggleable__label-arrow\">DecisionTreeRegressor</label><div class=\"sk-toggleable__content\"><pre>DecisionTreeRegressor(max_depth=4)</pre></div></div></div></div></div>"
      ],
      "text/plain": [
       "DecisionTreeRegressor(max_depth=4)"
      ]
     },
     "execution_count": 47,
     "metadata": {},
     "output_type": "execute_result"
    }
   ],
   "source": [
    "pr.fit(x_train, y_train)"
   ]
  },
  {
   "cell_type": "code",
   "execution_count": 48,
   "id": "19a85fa7",
   "metadata": {},
   "outputs": [],
   "source": [
    "pred = pr.predict(x_test)"
   ]
  },
  {
   "cell_type": "code",
   "execution_count": 49,
   "id": "83c9ed07",
   "metadata": {},
   "outputs": [
    {
     "name": "stdout",
     "output_type": "stream",
     "text": [
      "31    19.15\n",
      "20    31.21\n",
      "16    60.85\n",
      "30    19.49\n",
      "22    26.72\n",
      "15    95.95\n",
      "10    91.83\n",
      "2     48.52\n",
      "Name: Year Close, dtype: float64\n",
      "[18.805 25.495 53.45  17.072 32.51  53.45  98.83  53.75 ]\n"
     ]
    }
   ],
   "source": [
    "print(y_test)\n",
    "print(pred)"
   ]
  },
  {
   "cell_type": "code",
   "execution_count": 50,
   "id": "80500482",
   "metadata": {},
   "outputs": [],
   "source": [
    "from sklearn.ensemble import RandomForestRegressor"
   ]
  },
  {
   "cell_type": "code",
   "execution_count": 51,
   "id": "9d8fdd5b",
   "metadata": {},
   "outputs": [],
   "source": [
    "# fit the model\n",
    "model = RandomForestRegressor(n_estimators=100,random_state=1)\n",
    "model.fit(x_train, y_train)\n",
    "# make predictions\n",
    "R_predict = model.predict(x_test)"
   ]
  },
  {
   "cell_type": "code",
   "execution_count": 52,
   "id": "2df1e6de",
   "metadata": {},
   "outputs": [
    {
     "name": "stdout",
     "output_type": "stream",
     "text": [
      "[22.5157 23.9339 56.6851 18.8519 28.1297 61.4006 94.0128 43.5494]\n",
      "31    19.15\n",
      "20    31.21\n",
      "16    60.85\n",
      "30    19.49\n",
      "22    26.72\n",
      "15    95.95\n",
      "10    91.83\n",
      "2     48.52\n",
      "Name: Year Close, dtype: float64\n"
     ]
    }
   ],
   "source": [
    "print (R_predict)\n",
    "print(y_test)"
   ]
  },
  {
   "cell_type": "code",
   "execution_count": null,
   "id": "85c383ac",
   "metadata": {},
   "outputs": [],
   "source": []
  },
  {
   "cell_type": "code",
   "execution_count": null,
   "id": "9f272589",
   "metadata": {},
   "outputs": [],
   "source": []
  }
 ],
 "metadata": {
  "kernelspec": {
   "display_name": "Python 3 (ipykernel)",
   "language": "python",
   "name": "python3"
  },
  "language_info": {
   "codemirror_mode": {
    "name": "ipython",
    "version": 3
   },
   "file_extension": ".py",
   "mimetype": "text/x-python",
   "name": "python",
   "nbconvert_exporter": "python",
   "pygments_lexer": "ipython3",
   "version": "3.9.7"
  }
 },
 "nbformat": 4,
 "nbformat_minor": 5
}
